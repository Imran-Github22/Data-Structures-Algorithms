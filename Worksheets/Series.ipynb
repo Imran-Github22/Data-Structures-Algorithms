{
  "nbformat": 4,
  "nbformat_minor": 0,
  "metadata": {
    "colab": {
      "name": "Series.ipynb",
      "provenance": [],
      "authorship_tag": "ABX9TyPvwasYtLl0saAT0QKQKSK7"
    },
    "kernelspec": {
      "name": "python3",
      "display_name": "Python 3"
    },
    "language_info": {
      "name": "python"
    }
  },
  "cells": [
    {
      "cell_type": "markdown",
      "source": [
        "# Series and Progressions\n",
        "\n",
        "This worksheet is an exercise on creating and testing custom classes for generating Series and progressions, for example, user defined range class with step, Arithmatic progression, Geometric progression and Fibonacci progression. This worksheet also illustrates inheritance."
      ],
      "metadata": {
        "id": "PZYEY__azrUB"
      }
    },
    {
      "cell_type": "markdown",
      "source": [
        "## Range Series"
      ],
      "metadata": {
        "id": "6pRV-Eae03WJ"
      }
    },
    {
      "cell_type": "code",
      "source": [
        "from Range import Range\n",
        "x = [i for i in Range(1, 10, 1)]\n",
        "display(x)"
      ],
      "metadata": {
        "colab": {
          "base_uri": "https://localhost:8080/",
          "height": 34
        },
        "id": "DZctL6JIbG6M",
        "outputId": "c2348faa-3814-4744-d185-7672ec7f3203"
      },
      "execution_count": 1,
      "outputs": [
        {
          "output_type": "display_data",
          "data": {
            "text/plain": [
              "[1, 2, 3, 4, 5, 6, 7, 8, 9]"
            ]
          },
          "metadata": {}
        }
      ]
    },
    {
      "cell_type": "markdown",
      "source": [
        "## Series or Progressions\n",
        "This section first creates and tests an instance of the Progression class, the class that is going to be a base class for other progression classes."
      ],
      "metadata": {
        "id": "6L8GWtIa07pT"
      }
    },
    {
      "cell_type": "code",
      "execution_count": 2,
      "metadata": {
        "id": "5ZUkbNv0gtB1"
      },
      "outputs": [],
      "source": [
        "from Progression import *"
      ]
    },
    {
      "cell_type": "code",
      "source": [
        "pg = Progression(stop=10)\n",
        "pg.print_progression()"
      ],
      "metadata": {
        "colab": {
          "base_uri": "https://localhost:8080/"
        },
        "id": "CL373uOMkxy0",
        "outputId": "4140b81c-9b04-436a-ce66-3f399e7103c7"
      },
      "execution_count": 3,
      "outputs": [
        {
          "output_type": "stream",
          "name": "stdout",
          "text": [
            "0 1 2 3 4 5 6 7 8 9\n"
          ]
        }
      ]
    },
    {
      "cell_type": "code",
      "source": [
        "pg.reset()"
      ],
      "metadata": {
        "id": "4KfKgYklli3s"
      },
      "execution_count": 4,
      "outputs": []
    },
    {
      "cell_type": "markdown",
      "source": [
        "Now test the Iterator:"
      ],
      "metadata": {
        "id": "jDdWaCfPdZ5f"
      }
    },
    {
      "cell_type": "code",
      "source": [
        "next(pg)"
      ],
      "metadata": {
        "colab": {
          "base_uri": "https://localhost:8080/"
        },
        "id": "KJnukNz0mtXC",
        "outputId": "6b3b328e-b139-4aee-ae8a-aab9f6b1ebbc"
      },
      "execution_count": 5,
      "outputs": [
        {
          "output_type": "execute_result",
          "data": {
            "text/plain": [
              "0"
            ]
          },
          "metadata": {},
          "execution_count": 5
        }
      ]
    },
    {
      "cell_type": "code",
      "source": [
        "next(pg)"
      ],
      "metadata": {
        "colab": {
          "base_uri": "https://localhost:8080/"
        },
        "id": "Ke7M2XRL6dLK",
        "outputId": "d65390f3-8c88-4388-d054-bda70fecad52"
      },
      "execution_count": 6,
      "outputs": [
        {
          "output_type": "execute_result",
          "data": {
            "text/plain": [
              "1"
            ]
          },
          "metadata": {},
          "execution_count": 6
        }
      ]
    },
    {
      "cell_type": "code",
      "source": [
        "next(pg)"
      ],
      "metadata": {
        "colab": {
          "base_uri": "https://localhost:8080/"
        },
        "id": "IpVau7Np84cS",
        "outputId": "1372a4b8-8669-4da4-d796-4d7a5d3c611f"
      },
      "execution_count": 7,
      "outputs": [
        {
          "output_type": "execute_result",
          "data": {
            "text/plain": [
              "2"
            ]
          },
          "metadata": {},
          "execution_count": 7
        }
      ]
    },
    {
      "cell_type": "markdown",
      "source": [
        "Yes! It seems to be working fine, lets resume it with an auto spin :)\n"
      ],
      "metadata": {
        "id": "ikRR5dImdpCU"
      }
    },
    {
      "cell_type": "code",
      "source": [
        "x = [i for i in pg]\n",
        "display(x)"
      ],
      "metadata": {
        "colab": {
          "base_uri": "https://localhost:8080/",
          "height": 34
        },
        "id": "Pxcl2z8Q87eP",
        "outputId": "8f52053f-064b-4384-9192-6a25d5caa26d"
      },
      "execution_count": 8,
      "outputs": [
        {
          "output_type": "display_data",
          "data": {
            "text/plain": [
              "[3, 4, 5, 6, 7, 8, 9]"
            ]
          },
          "metadata": {}
        }
      ]
    },
    {
      "cell_type": "code",
      "source": [
        "pg.reset()\n",
        "next(pg)"
      ],
      "metadata": {
        "colab": {
          "base_uri": "https://localhost:8080/"
        },
        "id": "_Ean87Af9J0u",
        "outputId": "a03f9caf-06ab-4f3e-ea1b-d369c06d39c4"
      },
      "execution_count": 9,
      "outputs": [
        {
          "output_type": "execute_result",
          "data": {
            "text/plain": [
              "0"
            ]
          },
          "metadata": {},
          "execution_count": 9
        }
      ]
    },
    {
      "cell_type": "code",
      "source": [
        "next(pg)"
      ],
      "metadata": {
        "colab": {
          "base_uri": "https://localhost:8080/"
        },
        "id": "93cTZjwkBFcu",
        "outputId": "c26c2d16-92d7-45f2-d1b9-91853248c5b3"
      },
      "execution_count": 10,
      "outputs": [
        {
          "output_type": "execute_result",
          "data": {
            "text/plain": [
              "1"
            ]
          },
          "metadata": {},
          "execution_count": 10
        }
      ]
    },
    {
      "cell_type": "code",
      "source": [
        "pg.print_progression()"
      ],
      "metadata": {
        "colab": {
          "base_uri": "https://localhost:8080/"
        },
        "id": "7Kg8lPXCBHAt",
        "outputId": "a4b08ea6-efb0-4b1d-b881-a76753b170c2"
      },
      "execution_count": 11,
      "outputs": [
        {
          "output_type": "stream",
          "name": "stdout",
          "text": [
            "2 3 4 5 6 7 8 9\n"
          ]
        }
      ]
    },
    {
      "cell_type": "markdown",
      "source": [
        "### Arithmatic Progression\n"
      ],
      "metadata": {
        "id": "kSv7rU2ZHFx9"
      }
    },
    {
      "cell_type": "code",
      "source": [
        "ag = ArithmeticProgression()\n",
        "next(ag)"
      ],
      "metadata": {
        "colab": {
          "base_uri": "https://localhost:8080/"
        },
        "id": "BmbzaL5WGf89",
        "outputId": "e4e25937-4b87-444f-c7ae-e8ea9b0c15cd"
      },
      "execution_count": 12,
      "outputs": [
        {
          "output_type": "execute_result",
          "data": {
            "text/plain": [
              "0"
            ]
          },
          "metadata": {},
          "execution_count": 12
        }
      ]
    },
    {
      "cell_type": "code",
      "source": [
        "next(ag)"
      ],
      "metadata": {
        "colab": {
          "base_uri": "https://localhost:8080/"
        },
        "id": "j87KKJYSGqOk",
        "outputId": "87ed72e9-3f5f-4bfe-8bde-e2bc492c222d"
      },
      "execution_count": 13,
      "outputs": [
        {
          "output_type": "execute_result",
          "data": {
            "text/plain": [
              "1"
            ]
          },
          "metadata": {},
          "execution_count": 13
        }
      ]
    },
    {
      "cell_type": "code",
      "source": [
        "ag.print_progression()"
      ],
      "metadata": {
        "colab": {
          "base_uri": "https://localhost:8080/"
        },
        "id": "pfdxLMwIGsDs",
        "outputId": "0fd81148-38e0-4ad7-ae66-e5fd38a4e06c"
      },
      "execution_count": 14,
      "outputs": [
        {
          "output_type": "stream",
          "name": "stdout",
          "text": [
            "2 3 4 5 6 7 8 9\n"
          ]
        }
      ]
    },
    {
      "cell_type": "code",
      "source": [
        "ag = ArithmeticProgression(increment=3)\n",
        "next(ag)"
      ],
      "metadata": {
        "colab": {
          "base_uri": "https://localhost:8080/"
        },
        "id": "Og-zuP0bGvPz",
        "outputId": "907bf1aa-d827-46d2-8b38-fd56962eb403"
      },
      "execution_count": 15,
      "outputs": [
        {
          "output_type": "execute_result",
          "data": {
            "text/plain": [
              "0"
            ]
          },
          "metadata": {},
          "execution_count": 15
        }
      ]
    },
    {
      "cell_type": "code",
      "source": [
        "next(ag)"
      ],
      "metadata": {
        "colab": {
          "base_uri": "https://localhost:8080/"
        },
        "id": "1f3g-idlG6SA",
        "outputId": "4ef024ae-9b70-4606-c582-87e3f201749d"
      },
      "execution_count": 16,
      "outputs": [
        {
          "output_type": "execute_result",
          "data": {
            "text/plain": [
              "3"
            ]
          },
          "metadata": {},
          "execution_count": 16
        }
      ]
    },
    {
      "cell_type": "code",
      "source": [
        "ag.print_progression()"
      ],
      "metadata": {
        "colab": {
          "base_uri": "https://localhost:8080/"
        },
        "id": "OCX8ABN8G72V",
        "outputId": "84700771-bb00-46f8-c3be-9d7a635bde97"
      },
      "execution_count": 17,
      "outputs": [
        {
          "output_type": "stream",
          "name": "stdout",
          "text": [
            "6 9 12 15\n"
          ]
        }
      ]
    },
    {
      "cell_type": "markdown",
      "source": [
        "### Geometric Progression\n"
      ],
      "metadata": {
        "id": "kGKGAPNVHdiO"
      }
    },
    {
      "cell_type": "code",
      "source": [
        "gp = GeometicProgression()\n",
        "next(gp)"
      ],
      "metadata": {
        "colab": {
          "base_uri": "https://localhost:8080/"
        },
        "id": "Sp5T9jIpJgbs",
        "outputId": "eb1a3c34-8193-428c-e373-6315eeeab79d"
      },
      "execution_count": 18,
      "outputs": [
        {
          "output_type": "execute_result",
          "data": {
            "text/plain": [
              "1"
            ]
          },
          "metadata": {},
          "execution_count": 18
        }
      ]
    },
    {
      "cell_type": "code",
      "source": [
        "next(gp)"
      ],
      "metadata": {
        "colab": {
          "base_uri": "https://localhost:8080/"
        },
        "id": "SjbBq-RjJoKi",
        "outputId": "f7fae6ca-d000-4d09-b987-af5333c62864"
      },
      "execution_count": 19,
      "outputs": [
        {
          "output_type": "execute_result",
          "data": {
            "text/plain": [
              "2"
            ]
          },
          "metadata": {},
          "execution_count": 19
        }
      ]
    },
    {
      "cell_type": "code",
      "source": [
        "gp.print_progression()"
      ],
      "metadata": {
        "colab": {
          "base_uri": "https://localhost:8080/"
        },
        "id": "Cp2ty_kTJq2Q",
        "outputId": "ca821916-ab5a-4518-8e9b-04d338508e13"
      },
      "execution_count": 20,
      "outputs": [
        {
          "output_type": "stream",
          "name": "stdout",
          "text": [
            "4 8 16 32 64 128\n"
          ]
        }
      ]
    },
    {
      "cell_type": "markdown",
      "source": [
        "### Fibonacci Progression\n"
      ],
      "metadata": {
        "id": "io5f7_fVbzv2"
      }
    },
    {
      "cell_type": "code",
      "source": [
        "fp = FibonacciProgression()"
      ],
      "metadata": {
        "id": "TJX-dYW0LbYZ"
      },
      "execution_count": 21,
      "outputs": []
    },
    {
      "cell_type": "code",
      "source": [
        "fp.print_progression()"
      ],
      "metadata": {
        "colab": {
          "base_uri": "https://localhost:8080/"
        },
        "id": "IvsAj2rRLjLz",
        "outputId": "d42c8400-70b8-46b3-b38b-369b2e66e005"
      },
      "execution_count": 22,
      "outputs": [
        {
          "output_type": "stream",
          "name": "stdout",
          "text": [
            "0 1 1 2 3 5 8 13 21 34\n"
          ]
        }
      ]
    },
    {
      "cell_type": "code",
      "source": [
        "fp.reset()\n",
        "fp.print_progression()"
      ],
      "metadata": {
        "colab": {
          "base_uri": "https://localhost:8080/"
        },
        "id": "qxhAb3RHLlz-",
        "outputId": "14c84fed-6eb4-4614-9a41-f28ced41dc20"
      },
      "execution_count": 23,
      "outputs": [
        {
          "output_type": "stream",
          "name": "stdout",
          "text": [
            "0 1 1 2 3 5 8 13 21 34\n"
          ]
        }
      ]
    },
    {
      "cell_type": "code",
      "source": [
        "fp = FibonacciProgression(0, -1)\n",
        "fp.print_progression()"
      ],
      "metadata": {
        "colab": {
          "base_uri": "https://localhost:8080/"
        },
        "id": "yafVGGweLs6r",
        "outputId": "7f835f43-49d7-4bf5-c99b-1aad1806f41a"
      },
      "execution_count": 24,
      "outputs": [
        {
          "output_type": "stream",
          "name": "stdout",
          "text": [
            "0 -1 -1 -2 -3 -5 -8 -13 -21 -34\n"
          ]
        }
      ]
    }
  ]
}